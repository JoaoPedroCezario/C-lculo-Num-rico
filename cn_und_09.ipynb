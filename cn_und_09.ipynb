{
  "nbformat": 4,
  "nbformat_minor": 0,
  "metadata": {
    "colab": {
      "name": "cn-und.09.ipynb",
      "provenance": []
    },
    "kernelspec": {
      "name": "python3",
      "display_name": "Python 3"
    },
    "language_info": {
      "name": "python"
    }
  },
  "cells": [
    {
      "cell_type": "code",
      "metadata": {
        "id": "lSosQQD5xM-Z"
      },
      "source": [
        "from sympy import *\n",
        "import numpy as np\n",
        "import math\n",
        "init_printing(use_unicode=True)\n",
        "x = symbols('x')"
      ],
      "execution_count": null,
      "outputs": []
    },
    {
      "cell_type": "code",
      "metadata": {
        "colab": {
          "base_uri": "https://localhost:8080/"
        },
        "id": "nXR2K62UxGSF",
        "outputId": "6fe58f09-dbea-45bf-fb79-a77236c29d1e"
      },
      "source": [
        "def Lagrange(z,xn):                                                 \n",
        "    lista=[55,60,65] \n",
        "    y=[13,12,11]\n",
        "    xf=xn+z                                                      \n",
        "    xu=xn        \n",
        "    p=0                                                            \n",
        "    for j in range(xu,xf) : \n",
        "        resultado=1                                                 \n",
        "        for i in range(0,z):                                        \n",
        "            if xn!=i:                                             \n",
        "                resultado=resultado*((x-lista[i])/(lista[xn]-lista[i]))\n",
        "        print(resultado)\n",
        "        p=p+(resultado*(y[j]))\n",
        "        xn=xn+1                                                      \n",
        "    print(p)       \n",
        "print(Lagrange(3,0))"
      ],
      "execution_count": null,
      "outputs": [
        {
          "output_type": "stream",
          "name": "stdout",
          "text": [
            "(13/2 - x/10)*(12 - x/5)\n",
            "(13 - x/5)*(x/5 - 11)\n",
            "(x/10 - 11/2)*(x/5 - 12)\n",
            "13*(13/2 - x/10)*(12 - x/5) + 12*(13 - x/5)*(x/5 - 11) + 11*(x/10 - 11/2)*(x/5 - 12)\n",
            "None\n"
          ]
        }
      ]
    },
    {
      "cell_type": "code",
      "metadata": {
        "colab": {
          "base_uri": "https://localhost:8080/",
          "height": 38
        },
        "id": "P8YsXp_lAk_9",
        "outputId": "95502c97-0bca-481e-f9d0-920fc8417e7c"
      },
      "source": [
        "expand(13*(13/2 - x/10)*(12 - x/5) + 12*(13 - x/5)*(x/5 - 11) + 11*(x/10 - 11/2)*(x/5 - 12))"
      ],
      "execution_count": null,
      "outputs": [
        {
          "output_type": "execute_result",
          "data": {
            "image/png": "[encoded data removed]",
            "text/latex": "$\\displaystyle 24.0 - 0.200000000000003 x$",
            "text/plain": [
              "24.0 - 0.200000000000003⋅x"
            ]
          },
          "metadata": {},
          "execution_count": 5
        }
      ]
    },
    {
      "cell_type": "code",
      "metadata": {
        "id": "k2gfXiIIAqq5",
        "colab": {
          "base_uri": "https://localhost:8080/"
        },
        "outputId": "5ccbd4a0-90ff-4932-b99e-996e66d141e6"
      },
      "source": [
        "def Lagrange(z,xn):                                                 \n",
        "    lista=[55,60,65,70] \n",
        "    y=[13,12,11,10]\n",
        "    xf=xn+z                                                      \n",
        "    xu=xn        \n",
        "    p=0                                                            \n",
        "    for j in range(xu,xf) : \n",
        "        resultado=1                                                 \n",
        "        for i in range(0,z):                                        \n",
        "            if xn!=i:                                             \n",
        "                resultado=resultado*((x-lista[i])/(lista[xn]-lista[i]))\n",
        "        print(resultado)\n",
        "        p=p+(resultado*(y[j]))\n",
        "        xn=xn+1                                                      \n",
        "    print(p)       \n",
        "print(Lagrange(4,0))"
      ],
      "execution_count": null,
      "outputs": [
        {
          "output_type": "stream",
          "name": "stdout",
          "text": [
            "(14/3 - x/15)*(13/2 - x/10)*(12 - x/5)\n",
            "(7 - x/10)*(13 - x/5)*(x/5 - 11)\n",
            "(14 - x/5)*(x/10 - 11/2)*(x/5 - 12)\n",
            "(x/15 - 11/3)*(x/10 - 6)*(x/5 - 13)\n",
            "13*(14/3 - x/15)*(13/2 - x/10)*(12 - x/5) + 12*(7 - x/10)*(13 - x/5)*(x/5 - 11) + 11*(14 - x/5)*(x/10 - 11/2)*(x/5 - 12) + 10*(x/15 - 11/3)*(x/10 - 6)*(x/5 - 13)\n",
            "None\n"
          ]
        }
      ]
    },
    {
      "cell_type": "code",
      "metadata": {
        "colab": {
          "base_uri": "https://localhost:8080/",
          "height": 38
        },
        "id": "ji_RsKN-mkmc",
        "outputId": "c8fab019-dc27-4884-edde-f4211f7befba"
      },
      "source": [
        "expand(13*(14/3 - x/15)*(13/2 - x/10)*(12 - x/5) + 12*(7 - x/10)*(13 - x/5)*(x/5 - 11) + 11*(14 - x/5)*(x/10 - 11/2)*(x/5 - 12) + 10*(x/15 - 11/3)*(x/10 - 6)*(x/5 - 13))"
      ],
      "execution_count": null,
      "outputs": [
        {
          "output_type": "execute_result",
          "data": {
            "image/png": "[encoded data removed]",
            "text/latex": "$\\displaystyle 1.33226762955019 \\cdot 10^{-15} x^{2} - 0.200000000000074 x + 24.0$",
            "text/plain": [
              "                      2                             \n",
              "1.33226762955019e-15⋅x  - 0.200000000000074⋅x + 24.0"
            ]
          },
          "metadata": {},
          "execution_count": 3
        }
      ]
    },
    {
      "cell_type": "code",
      "metadata": {
        "id": "Z2FGrKCUmvCs"
      },
      "source": [
        ""
      ],
      "execution_count": null,
      "outputs": []
    }
  ]
}