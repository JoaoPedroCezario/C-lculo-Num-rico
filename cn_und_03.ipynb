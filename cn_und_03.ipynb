{
  "nbformat": 4,
  "nbformat_minor": 0,
  "metadata": {
    "colab": {
      "name": "cn-und.03-04.10 (1).ipynb",
      "provenance": [],
      "collapsed_sections": []
    },
    "kernelspec": {
      "name": "python3",
      "display_name": "Python 3"
    },
    "language_info": {
      "name": "python"
    }
  },
  "cells": [
    {
      "cell_type": "code",
      "metadata": {
        "id": "WZ8NayrEd8wT"
      },
      "source": [
        "from sympy import *\n",
        "import numpy as np\n",
        "import math"
      ],
      "execution_count": null,
      "outputs": []
    },
    {
      "cell_type": "code",
      "metadata": {
        "id": "-JWOpL1DeMQp"
      },
      "source": [
        "init_printing(use_unicode=True)\n",
        "x = symbols('x')"
      ],
      "execution_count": null,
      "outputs": []
    },
    {
      "cell_type": "code",
      "metadata": {
        "colab": {
          "base_uri": "https://localhost:8080/",
          "height": 37
        },
        "id": "11NTun5asaHJ",
        "outputId": "57930cab-4b2d-49cb-8a00-2ed178cf4afd"
      },
      "source": [
        "math.exp(1)"
      ],
      "execution_count": null,
      "outputs": [
        {
          "output_type": "execute_result",
          "data": {
            "image/png": "[encoded data removed]",
            "text/latex": "$\\displaystyle 2.71828182845905$",
            "text/plain": [
              "2.718281828459045"
            ]
          },
          "metadata": {},
          "execution_count": 3
        }
      ]
    },
    {
      "cell_type": "code",
      "metadata": {
        "id": "7XyzCNbNeU0t"
      },
      "source": [
        "def newton(f, fprime, pin, eps, N):\n",
        "  n = 1\n",
        "  p = 0\n",
        "  while n<=N:\n",
        "    p = pin - f(pin)/fprime(pin)\n",
        "    if np.isclose(f(p), 0) or np.abs(p-pin) < eps:\n",
        "      print('a raiz é ', p, ' e o número de iterações foi ', n)\n",
        "      return\n",
        "    pin = p\n",
        "    n += 1\n",
        "  y = f(p)\n",
        "  print('Método não converge. A última iteração foi ', p, ' com valor ', y)\n"
      ],
      "execution_count": null,
      "outputs": []
    },
    {
      "cell_type": "code",
      "source": [
        "plot(4*cos(x)-exp(x), (x,-2,4))"
      ],
      "metadata": {
        "id": "58Sxbgbre7xU"
      },
      "execution_count": null,
      "outputs": []
    },
    {
      "cell_type": "code",
      "metadata": {
        "id": "cnjQyIagfLmc"
      },
      "source": [
        "diff(4*cos(x)-exp(x),x)"
      ],
      "execution_count": null,
      "outputs": []
    },
    {
      "cell_type": "code",
      "metadata": {
        "id": "vwpql_2GvpCV"
      },
      "source": [
        "newton(lambda x: 1000*x**5 - 3*x + 9.04, lambda x: 5000*x**4 - 3, -0.5, 0.0001, 200)"
      ],
      "execution_count": null,
      "outputs": []
    },
    {
      "cell_type": "code",
      "metadata": {
        "id": "UQ6llVcBe_CT"
      },
      "source": [
        "newton(lambda x: 4*math.cos(x)-math.exp(x), lambda x: -4*math.sin(x)-math.exp(x), 1, 0.01, 200)"
      ],
      "execution_count": null,
      "outputs": []
    },
    {
      "cell_type": "code",
      "metadata": {
        "id": "FXndgWpDfYwM"
      },
      "source": [
        "plot(4*cos(x)-exp(x), (x,-2,4))\n"
      ],
      "execution_count": null,
      "outputs": []
    },
    {
      "cell_type": "code",
      "metadata": {
        "id": "LVwDtduCYYzE"
      },
      "source": [
        "plot(2*x-tan(x), (x, -2, 4))"
      ],
      "execution_count": null,
      "outputs": []
    },
    {
      "cell_type": "code",
      "metadata": {
        "id": "Q8wsSjxjqvSn"
      },
      "source": [
        "newton(lambda x: 2*x-math.tan(x), lambda x: -2*x-math.tan(x), 1, 0.01, 200)"
      ],
      "execution_count": null,
      "outputs": []
    },
    {
      "cell_type": "code",
      "metadata": {
        "id": "yvYY9JBmZ46l"
      },
      "source": [
        "diff (2*x - tan(x), x)"
      ],
      "execution_count": null,
      "outputs": []
    },
    {
      "cell_type": "code",
      "metadata": {
        "id": "qhs36q9UZd4n"
      },
      "source": [
        "newton(lambda x: 2*x-math.tan(x), lambda x: 1-(math.tan(x))**2, 1, 0.01, 200)"
      ],
      "execution_count": null,
      "outputs": []
    },
    {
      "cell_type": "code",
      "metadata": {
        "id": "ZxcDhxxraQfz"
      },
      "source": [
        "diff (5*x**3 - x**2 + 12*x + 4, x)"
      ],
      "execution_count": null,
      "outputs": []
    },
    {
      "cell_type": "code",
      "metadata": {
        "id": "O5rEaRyXap1F"
      },
      "source": [
        "plot ((5*x**3 - x**2 + 12*x + 4),(x, -1, 1))"
      ],
      "execution_count": null,
      "outputs": []
    },
    {
      "cell_type": "code",
      "metadata": {
        "id": "kb1RhN_tacsD"
      },
      "source": [
        "newton(lambda x: 5*x**3 - x**2 + 12*x + 4, lambda x: 15*x**2-2*x+12, 0.31, 0.01, 200)"
      ],
      "execution_count": null,
      "outputs": []
    }
  ]
}