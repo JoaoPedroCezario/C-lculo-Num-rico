{
  "nbformat": 4,
  "nbformat_minor": 0,
  "metadata": {
    "colab": {
      "name": "cn-und.13-15.12.ipynb",
      "provenance": [],
      "collapsed_sections": []
    },
    "kernelspec": {
      "name": "python3",
      "display_name": "Python 3"
    },
    "language_info": {
      "name": "python"
    }
  },
  "cells": [
    {
      "cell_type": "code",
      "execution_count": null,
      "metadata": {
        "id": "tKZSAcVe6aST"
      },
      "outputs": [],
      "source": [
        "from sympy import *\n",
        "import numpy as np\n",
        "import math\n",
        "init_printing(use_unicode=True)\n",
        "x = symbols('x')"
      ]
    },
    {
      "cell_type": "code",
      "source": [
        "def mmqcontinuo(f, a, b, m):\n",
        "  for i in range(0, m+1):\n",
        "    print(\"linha \", i+1)\n",
        "    for j in range(0, m+1):\n",
        "      print (\" coluna \", j+1)\n",
        "      c = integrate (x**i * x**j, (x, a, b))\n",
        "      print(\" result: \", c)\n",
        "  print()\n",
        "  print(\"Termos independentes: \")\n",
        "  for i in range(0, m+1):\n",
        "    t = integrate (f(x)*x**i, (x, a, b))\n",
        "    print (t)"
      ],
      "metadata": {
        "id": "wAg9yp6-6hf4"
      },
      "execution_count": null,
      "outputs": []
    },
    {
      "cell_type": "code",
      "source": [
        ""
      ],
      "metadata": {
        "id": "OGtxgJ8HUZaW"
      },
      "execution_count": null,
      "outputs": []
    },
    {
      "cell_type": "code",
      "source": [
        "mmqcontinuo(lambda x: exp(x), -1, 1, 2)"
      ],
      "metadata": {
        "colab": {
          "base_uri": "https://localhost:8080/"
        },
        "id": "Y9sLpyTfM07S",
        "outputId": "db518983-ca98-43fc-b5b0-3c4fd6960a90"
      },
      "execution_count": null,
      "outputs": [
        {
          "output_type": "stream",
          "name": "stdout",
          "text": [
            "linha  1\n",
            " coluna  1\n",
            " result:  2\n",
            " coluna  2\n",
            " result:  0\n",
            " coluna  3\n",
            " result:  2/3\n",
            "linha  2\n",
            " coluna  1\n",
            " result:  0\n",
            " coluna  2\n",
            " result:  2/3\n",
            " coluna  3\n",
            " result:  0\n",
            "linha  3\n",
            " coluna  1\n",
            " result:  2/3\n",
            " coluna  2\n",
            " result:  0\n",
            " coluna  3\n",
            " result:  2/5\n",
            "\n",
            "Termos independentes: \n",
            "E - exp(-1)\n",
            "2*exp(-1)\n",
            "E - 5*exp(-1)\n"
          ]
        }
      ]
    },
    {
      "cell_type": "code",
      "source": [
        "mmqcontinuo(lambda x: x**4 - x*5, -1, 1, 2)"
      ],
      "metadata": {
        "id": "14OhpJBhM2P7"
      },
      "execution_count": null,
      "outputs": []
    },
    {
      "cell_type": "code",
      "source": [
        "mmqcontinuo(lambda x: x**4 - x*5, -1, 1, 2)"
      ],
      "metadata": {
        "colab": {
          "base_uri": "https://localhost:8080/"
        },
        "id": "C5PUmOSaATfj",
        "outputId": "f5db29a8-b32d-4df4-abec-740652985335"
      },
      "execution_count": null,
      "outputs": [
        {
          "output_type": "stream",
          "name": "stdout",
          "text": [
            "linha  1\n",
            " coluna  1\n",
            " result:  2\n",
            " coluna  2\n",
            " result:  0\n",
            " coluna  3\n",
            " result:  2/3\n",
            "linha  2\n",
            " coluna  1\n",
            " result:  0\n",
            " coluna  2\n",
            " result:  2/3\n",
            " coluna  3\n",
            " result:  0\n",
            "linha  3\n",
            " coluna  1\n",
            " result:  2/3\n",
            " coluna  2\n",
            " result:  0\n",
            " coluna  3\n",
            " result:  2/5\n",
            "\n",
            "Termos independentes: \n",
            "2/5\n",
            "-10/3\n",
            "2/7\n"
          ]
        }
      ]
    },
    {
      "cell_type": "code",
      "source": [
        "exp(-x)"
      ],
      "metadata": {
        "colab": {
          "base_uri": "https://localhost:8080/",
          "height": 38
        },
        "id": "UUWZiYEP1Www",
        "outputId": "1e75e4f7-da6b-4e41-8b37-4f5d1ae8266c"
      },
      "execution_count": null,
      "outputs": [
        {
          "output_type": "execute_result",
          "data": {
            "image/png": "[encoded data removed]",
            "text/latex": "$\\displaystyle e^{- x}$",
            "text/plain": [
              " -x\n",
              "ℯ  "
            ]
          },
          "metadata": {},
          "execution_count": 5
        }
      ]
    },
    {
      "cell_type": "code",
      "source": [
        "mmqcontinuo(lambda x: exp(-x), 1, 3, 1)"
      ],
      "metadata": {
        "colab": {
          "base_uri": "https://localhost:8080/"
        },
        "id": "IEvmjZ7M00j6",
        "outputId": "8a389488-aaa7-4394-98b0-8ea321b63433"
      },
      "execution_count": null,
      "outputs": [
        {
          "output_type": "stream",
          "name": "stdout",
          "text": [
            "linha  1\n",
            " coluna  1\n",
            " result:  2\n",
            " coluna  2\n",
            " result:  4\n",
            "linha  2\n",
            " coluna  1\n",
            " result:  4\n",
            " coluna  2\n",
            " result:  26/3\n",
            "\n",
            "Termos independentes: \n",
            "-exp(-3) + exp(-1)\n",
            "-4*exp(-3) + 2*exp(-1)\n"
          ]
        }
      ]
    }
  ]
}