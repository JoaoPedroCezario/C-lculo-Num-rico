{
  "nbformat": 4,
  "nbformat_minor": 0,
  "metadata": {
    "colab": {
      "name": "cn-und.02-27.09 (1).ipynb",
      "provenance": []
    },
    "kernelspec": {
      "name": "python3",
      "display_name": "Python 3"
    },
    "language_info": {
      "name": "python"
    }
  },
  "cells": [
    {
      "cell_type": "code",
      "metadata": {
        "id": "ZFAhsgVxbZD7"
      },
      "source": [
        "import math\n",
        "from sympy import *\n",
        "\n",
        "init_printing(use_unicode=True)\n",
        "\n",
        "x = symbols('x')"
      ],
      "execution_count": null,
      "outputs": []
    },
    {
      "cell_type": "code",
      "metadata": {
        "id": "9NTXQ3Lwmeip"
      },
      "source": [
        "def bisseccao(f, a, b, eps, N):\n",
        "  n = 1\n",
        "  p = 0. # to ensure the value of p carries out of the while loop\n",
        "  while n <= N:\n",
        "    p = a + (b-a)/2\n",
        "    if math.isclose(f(p), 0) or abs(a-b)<eps:\n",
        "      print('a raiz é ', p, ' e a última iteração foi ', n)\n",
        "      return\n",
        "    if f(a)*f(p) < 0:\n",
        "      b = p\n",
        "    else:\n",
        "      a = p\n",
        "    n+= 1\n",
        "  y = f(p)\n",
        "  print('Método não converge. A última iteração foi ',p, ' com a função valendo ', y)"
      ],
      "execution_count": null,
      "outputs": []
    },
    {
      "cell_type": "markdown",
      "metadata": {
        "id": "hnJds-l5QjHh"
      },
      "source": [
        "##Entre aqui com a função, o intervalo inicial [a,b], o erro e o número máximo de iterações"
      ]
    },
    {
      "cell_type": "code",
      "metadata": {
        "id": "51w4Ax0CPl-O"
      },
      "source": [
        "f = lambda x: x**2 - cos (x)\n",
        "a = 0\n",
        "b = 3.14/2\n",
        "eps = 0.00000000000001\n",
        "N = 100\n",
        "\n",
        "solucao = bisseccao (f, a, b, eps, N)"
      ],
      "execution_count": null,
      "outputs": []
    },
    {
      "cell_type": "code",
      "metadata": {
        "id": "5aNGRyV8nk__"
      },
      "source": [
        "f = lambda x: exp(2*x) - 2*x**3 - 5\n",
        "a = 0.5\n",
        "b = 1\n",
        "eps = 0.001\n",
        "N = 5\n",
        "solucao = bisseccao (f, a, b, eps, N)"
      ],
      "execution_count": null,
      "outputs": []
    },
    {
      "cell_type": "code",
      "metadata": {
        "id": "x7MRw5uPUlBO"
      },
      "source": [
        "f = lambda x: x**3-9*x+3\n",
        "a = 0\n",
        "b = 1\n",
        "eps = 0.001\n",
        "N = 34\n",
        "solucao = bisseccao(f, a, b, eps, N)"
      ],
      "execution_count": null,
      "outputs": []
    },
    {
      "cell_type": "code",
      "metadata": {
        "id": "Pc9JNFmvVNvl"
      },
      "source": [
        "f = lambda x: x**2-sin(x)\n",
        "a = 0.1\n",
        "b = 1\n",
        "eps = 0.001\n",
        "N = 34\n",
        "solucao = bisseccao(f, a, b, eps, N)"
      ],
      "execution_count": null,
      "outputs": []
    }
  ]
}